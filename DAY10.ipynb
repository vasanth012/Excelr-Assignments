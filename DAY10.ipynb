{
  "nbformat": 4,
  "nbformat_minor": 0,
  "metadata": {
    "colab": {
      "provenance": []
    },
    "kernelspec": {
      "name": "python3",
      "display_name": "Python 3"
    },
    "language_info": {
      "name": "python"
    }
  },
  "cells": [
    {
      "cell_type": "markdown",
      "source": [],
      "metadata": {
        "id": "XhD-ty7KXZfq"
      }
    },
    {
      "cell_type": "code",
      "source": [
        "# Examples on Regular Expressions - Coding Assignment\n",
        "# Assignment:\n",
        "# Write a Python function using regular expressions to extract all email addresses from a given string. Test it with the input: 'Contact us at support@example.com and sales@example.org.'\n",
        "\n",
        "import re\n",
        "\n",
        "def extract_emails(text):\n",
        "    email_pattern = r\"[a-zA-Z0-9._%+-]+@[a-zA-Z0-9.-]+\\.[a-zA-Z]{2,}\"\n",
        "    emails = re.findall(email_pattern, text)\n",
        "    return emails\n",
        "\n",
        "input_string = 'Contact us at support@example.com and sales@example.org.'\n",
        "extracted_emails = extract_emails(input_string)\n",
        "extracted_emails"
      ],
      "metadata": {
        "colab": {
          "base_uri": "https://localhost:8080/"
        },
        "id": "ix24r8ECmug8",
        "outputId": "d8abca00-ea53-450f-d8b2-fa468ae474f6"
      },
      "execution_count": 19,
      "outputs": [
        {
          "output_type": "execute_result",
          "data": {
            "text/plain": [
              "['support@example.com', 'sales@example.org']"
            ]
          },
          "metadata": {},
          "execution_count": 19
        }
      ]
    },
    {
      "cell_type": "code",
      "source": [],
      "metadata": {
        "id": "Td_F13FHm_9v"
      },
      "execution_count": null,
      "outputs": []
    }
  ]
}