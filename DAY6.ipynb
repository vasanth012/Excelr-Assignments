{
  "nbformat": 4,
  "nbformat_minor": 0,
  "metadata": {
    "colab": {
      "provenance": []
    },
    "kernelspec": {
      "name": "python3",
      "display_name": "Python 3"
    },
    "language_info": {
      "name": "python"
    }
  },
  "cells": [
    {
      "cell_type": "markdown",
      "source": [],
      "metadata": {
        "id": "XhD-ty7KXZfq"
      }
    },
    {
      "cell_type": "code",
      "source": [
        "#  Write a Python program to calculate the frequency of each word in a given text. Print the\n",
        "# words and their corresponding counts\n",
        "\n",
        "def word_frequency(text):\n",
        "    \"\"\"Calculates the frequency of each word in a given text.\n",
        "\n",
        "    Args:\n",
        "        text: The input text as a string.\n",
        "\n",
        "    Returns:\n",
        "        A dictionary where keys are words and values are their frequencies.\n",
        "    \"\"\"\n",
        "    words = text.lower().split()  # Convert to lowercase and split into words\n",
        "    word_counts = {}\n",
        "    for word in words:\n",
        "        if word in word_counts:\n",
        "            word_counts[word] += 1\n",
        "        else:\n",
        "            word_counts[word] = 1\n",
        "    return word_counts\n",
        "\n",
        "# Example usage:\n",
        "text = \"This is a sample text. This text is used to demonstrate word frequency.\"\n",
        "frequencies = word_frequency(text)\n",
        "for word, count in frequencies.items():\n",
        "    print(f\"{word}: {count}\")"
      ],
      "metadata": {
        "colab": {
          "base_uri": "https://localhost:8080/"
        },
        "id": "ix24r8ECmug8",
        "outputId": "38fc03f9-07fc-402c-a572-c122e9101cd4"
      },
      "execution_count": 12,
      "outputs": [
        {
          "output_type": "stream",
          "name": "stdout",
          "text": [
            "this: 2\n",
            "is: 2\n",
            "a: 1\n",
            "sample: 1\n",
            "text.: 1\n",
            "text: 1\n",
            "used: 1\n",
            "to: 1\n",
            "demonstrate: 1\n",
            "word: 1\n",
            "frequency.: 1\n"
          ]
        }
      ]
    },
    {
      "cell_type": "code",
      "source": [],
      "metadata": {
        "id": "Td_F13FHm_9v"
      },
      "execution_count": null,
      "outputs": []
    }
  ]
}