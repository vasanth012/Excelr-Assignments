{
  "nbformat": 4,
  "nbformat_minor": 0,
  "metadata": {
    "colab": {
      "provenance": []
    },
    "kernelspec": {
      "name": "python3",
      "display_name": "Python 3"
    },
    "language_info": {
      "name": "python"
    }
  },
  "cells": [
    {
      "cell_type": "markdown",
      "source": [],
      "metadata": {
        "id": "XhD-ty7KXZfq"
      }
    },
    {
      "cell_type": "code",
      "source": [
        "def sum_even_numbers(n):\n",
        "  \"\"\"\n",
        "  Calculates the sum of all even numbers between 1 and a given positive integer n.\n",
        "\n",
        "  Args:\n",
        "    n: A positive integer.\n",
        "\n",
        "  Returns:\n",
        "    The sum of all even numbers between 1 and n, or 0 if n is not a positive integer.\n",
        "  \"\"\"\n",
        "  if not isinstance(n, int) or n < 1:\n",
        "    return 0  # Handle invalid input\n",
        "\n",
        "  sum_of_evens = 0\n",
        "  for i in range(2, n + 1, 2):\n",
        "    sum_of_evens += i\n",
        "  return sum_of_evens\n",
        "\n",
        "# Get input from the user\n",
        "n = int(input(\"Enter a positive integer: \"))\n",
        "\n",
        "# Calculate and print the sum\n",
        "result = sum_even_numbers(n)\n",
        "print(f\"The sum of even numbers between 1 and {n} is: {result}\")"
      ],
      "metadata": {
        "colab": {
          "base_uri": "https://localhost:8080/"
        },
        "id": "ix24r8ECmug8",
        "outputId": "7ffa91fb-a7e6-4693-bcb5-94498c8f7baf"
      },
      "execution_count": 9,
      "outputs": [
        {
          "output_type": "stream",
          "name": "stdout",
          "text": [
            "Enter a positive integer: 2\n",
            "The sum of even numbers between 1 and 2 is: 2\n"
          ]
        }
      ]
    },
    {
      "cell_type": "code",
      "source": [],
      "metadata": {
        "id": "Td_F13FHm_9v"
      },
      "execution_count": null,
      "outputs": []
    }
  ]
}