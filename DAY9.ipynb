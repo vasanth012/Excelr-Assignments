{
  "nbformat": 4,
  "nbformat_minor": 0,
  "metadata": {
    "colab": {
      "provenance": []
    },
    "kernelspec": {
      "name": "python3",
      "display_name": "Python 3"
    },
    "language_info": {
      "name": "python"
    }
  },
  "cells": [
    {
      "cell_type": "markdown",
      "source": [],
      "metadata": {
        "id": "XhD-ty7KXZfq"
      }
    },
    {
      "cell_type": "code",
      "source": [
        "#  Text Cleaning Lowercasing Removing Special Characters - Coding Assignment\n",
        "# Assignment:\n",
        "# Write a Python function to clean a given text by removing special characters and converting it to lowercase. Test it with the input: 'Hello, World! Welcome to NLP 101.'\n",
        "\n",
        "import re\n",
        "\n",
        "def clean_text(text):\n",
        "  \"\"\"\n",
        "  Cleans the input text by removing special characters and converting it to lowercase.\n",
        "\n",
        "  Args:\n",
        "    text: The input text string.\n",
        "\n",
        "  Returns:\n",
        "    The cleaned text string.\n",
        "  \"\"\"\n",
        "  text = re.sub(r'[^\\w\\s]', '', text)  # Remove special characters\n",
        "  text = text.lower()  # Convert to lowercase\n",
        "  return text\n",
        "\n",
        "\n",
        "input_text = 'Hello, World! Welcome to NLP 101.'\n",
        "cleaned_text = clean_text(input_text)\n",
        "cleaned_text\n"
      ],
      "metadata": {
        "colab": {
          "base_uri": "https://localhost:8080/",
          "height": 35
        },
        "id": "ix24r8ECmug8",
        "outputId": "c7cea3d8-5391-4b1c-bca8-18eb445e9127"
      },
      "execution_count": 16,
      "outputs": [
        {
          "output_type": "execute_result",
          "data": {
            "text/plain": [
              "'hello world welcome to nlp 101'"
            ],
            "application/vnd.google.colaboratory.intrinsic+json": {
              "type": "string"
            }
          },
          "metadata": {},
          "execution_count": 16
        }
      ]
    },
    {
      "cell_type": "code",
      "source": [],
      "metadata": {
        "id": "Td_F13FHm_9v"
      },
      "execution_count": null,
      "outputs": []
    }
  ]
}