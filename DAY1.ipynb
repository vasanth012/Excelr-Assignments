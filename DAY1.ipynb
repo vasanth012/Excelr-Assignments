{
  "nbformat": 4,
  "nbformat_minor": 0,
  "metadata": {
    "colab": {
      "provenance": []
    },
    "kernelspec": {
      "name": "python3",
      "display_name": "Python 3"
    },
    "language_info": {
      "name": "python"
    }
  },
  "cells": [
    {
      "cell_type": "markdown",
      "source": [],
      "metadata": {
        "id": "XhD-ty7KXZfq"
      }
    },
    {
      "cell_type": "code",
      "source": [
        "#  Write a program in Jupyter Notebook to declare variables of different data types (integer, float, string, and boolean). Print each variable and its type.\n",
        "\n",
        "# Declare variables of different data types\n",
        "integer_variable = 10\n",
        "float_variable = 3.14\n",
        "string_variable = \"Hello, world!\"\n",
        "boolean_variable = True\n",
        "\n",
        "# Print each variable and its type\n",
        "print(f\"Integer variable: {integer_variable}, Type: {type(integer_variable)}\")\n",
        "print(f\"Float variable: {float_variable}, Type: {type(float_variable)}\")\n",
        "print(f\"String variable: {string_variable}, Type: {type(string_variable)}\")\n",
        "print(f\"Boolean variable: {boolean_variable}, Type: {type(boolean_variable)}\")"
      ],
      "metadata": {
        "colab": {
          "base_uri": "https://localhost:8080/"
        },
        "id": "TfOtENcSbZEX",
        "outputId": "1e6d2896-9560-433f-f100-cc7d23d54d32"
      },
      "execution_count": 2,
      "outputs": [
        {
          "output_type": "stream",
          "name": "stdout",
          "text": [
            "Integer variable: 10, Type: <class 'int'>\n",
            "Float variable: 3.14, Type: <class 'float'>\n",
            "String variable: Hello, world!, Type: <class 'str'>\n",
            "Boolean variable: True, Type: <class 'bool'>\n"
          ]
        }
      ]
    },
    {
      "cell_type": "code",
      "source": [],
      "metadata": {
        "id": "ASm7XNCkbdqz"
      },
      "execution_count": null,
      "outputs": []
    }
  ]
}