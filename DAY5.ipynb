{
  "nbformat": 4,
  "nbformat_minor": 0,
  "metadata": {
    "colab": {
      "provenance": []
    },
    "kernelspec": {
      "name": "python3",
      "display_name": "Python 3"
    },
    "language_info": {
      "name": "python"
    }
  },
  "cells": [
    {
      "cell_type": "markdown",
      "source": [],
      "metadata": {
        "id": "XhD-ty7KXZfq"
      }
    },
    {
      "cell_type": "code",
      "source": [
        "#  Write a Python program to calculate the frequency of each word in a given text. Print the\n",
        "# words and their corresponding counts\n",
        "\n",
        "from collections import Counter\n",
        "\n",
        "def word_frequency(text):\n",
        "  \"\"\"Calculates the frequency of each word in a given text.\n",
        "\n",
        "  Args:\n",
        "    text: The input text as a string.\n",
        "\n",
        "  Returns:\n",
        "    None. Prints the words and their corresponding counts.\n",
        "  \"\"\"\n",
        "  words = text.lower().split()  # Convert to lowercase and split into words\n",
        "  word_counts = Counter(words)\n",
        "\n",
        "  for word, count in word_counts.items():\n",
        "    print(f\"{word}: {count}\")\n",
        "\n",
        "\n",
        "# Example usage:\n",
        "text = \"This is a sample text. This text is used to demonstrate word frequency counting. This is the end.\"\n",
        "word_frequency(text)"
      ],
      "metadata": {
        "colab": {
          "base_uri": "https://localhost:8080/"
        },
        "id": "ix24r8ECmug8",
        "outputId": "47c76106-00e7-4a3c-e40d-487b9be6a14d"
      },
      "execution_count": 11,
      "outputs": [
        {
          "output_type": "stream",
          "name": "stdout",
          "text": [
            "this: 3\n",
            "is: 3\n",
            "a: 1\n",
            "sample: 1\n",
            "text.: 1\n",
            "text: 1\n",
            "used: 1\n",
            "to: 1\n",
            "demonstrate: 1\n",
            "word: 1\n",
            "frequency: 1\n",
            "counting.: 1\n",
            "the: 1\n",
            "end.: 1\n"
          ]
        }
      ]
    },
    {
      "cell_type": "code",
      "source": [],
      "metadata": {
        "id": "Td_F13FHm_9v"
      },
      "execution_count": null,
      "outputs": []
    }
  ]
}