{
  "nbformat": 4,
  "nbformat_minor": 0,
  "metadata": {
    "colab": {
      "provenance": []
    },
    "kernelspec": {
      "name": "python3",
      "display_name": "Python 3"
    },
    "language_info": {
      "name": "python"
    }
  },
  "cells": [
    {
      "cell_type": "markdown",
      "source": [],
      "metadata": {
        "id": "XhD-ty7KXZfq"
      }
    },
    {
      "cell_type": "code",
      "source": [
        "#  Create a List, tuple and Dictionary with 5 elements in it and how to access few elements based on the index. Try  with different examples\n",
        "\n",
        "# Creating a list with 5 elements\n",
        "my_list = [10, 20, 30, 40, 50]\n",
        "\n",
        "# Accessing elements by index\n",
        "print(my_list[0])  # Output: 10 (first element)\n",
        "print(my_list[2])  # Output: 30 (third element)\n",
        "print(my_list[-1]) # Output: 50 (last element)\n",
        "\n",
        "# Slicing the list (accessing multiple elements)\n",
        "print(my_list[1:4]) # Output: [20, 30, 40] (elements from index 1 up to (but not including) index 4)\n",
        "\n",
        "\n",
        "# Creating a tuple with 5 elements\n",
        "my_tuple = (100, 200, 300, 400, 500)\n",
        "\n",
        "# Accessing elements by index\n",
        "print(my_tuple[0]) # Output: 100\n",
        "print(my_tuple[3]) # Output: 400\n",
        "\n",
        "# Tuples are immutable, so you cannot modify them like lists\n",
        "\n",
        "\n",
        "# Creating a dictionary with 5 elements\n",
        "my_dict = {\n",
        "    \"name\": \"Alice\",\n",
        "    \"age\": 30,\n",
        "    \"city\": \"New York\",\n",
        "    \"occupation\": \"Engineer\",\n",
        "    \"country\": \"USA\"\n",
        "}\n",
        "\n",
        "# Accessing elements by key\n",
        "print(my_dict[\"name\"])      # Output: Alice\n",
        "print(my_dict[\"occupation\"]) # Output: Engineer\n",
        "\n",
        "# Accessing elements using get() method (safer than direct indexing)\n",
        "print(my_dict.get(\"age\"))  # Output: 30\n",
        "print(my_dict.get(\"gender\", \"Not specified\")) # Output: Not specified (returns default value if key not found)"
      ],
      "metadata": {
        "colab": {
          "base_uri": "https://localhost:8080/"
        },
        "id": "TfOtENcSbZEX",
        "outputId": "c98f2591-6ea3-40ac-8137-6c52cbb4bfb4"
      },
      "execution_count": 3,
      "outputs": [
        {
          "output_type": "stream",
          "name": "stdout",
          "text": [
            "10\n",
            "30\n",
            "50\n",
            "[20, 30, 40]\n",
            "100\n",
            "400\n",
            "Alice\n",
            "Engineer\n",
            "30\n",
            "Not specified\n"
          ]
        }
      ]
    },
    {
      "cell_type": "code",
      "source": [],
      "metadata": {
        "id": "ASm7XNCkbdqz"
      },
      "execution_count": null,
      "outputs": []
    }
  ]
}