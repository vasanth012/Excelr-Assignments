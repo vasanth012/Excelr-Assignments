{
  "nbformat": 4,
  "nbformat_minor": 0,
  "metadata": {
    "colab": {
      "provenance": []
    },
    "kernelspec": {
      "name": "python3",
      "display_name": "Python 3"
    },
    "language_info": {
      "name": "python"
    }
  },
  "cells": [
    {
      "cell_type": "markdown",
      "source": [],
      "metadata": {
        "id": "XhD-ty7KXZfq"
      }
    },
    {
      "cell_type": "code",
      "source": [
        "# prompt: Write a Python program that takes a student's marks in three subjects as input.\n",
        "# If the average is greater than or equal to 90, print \"Grade: A\".\n",
        "# If the average is between 80 and 89, print \"Grade: B\".\n",
        "# If the average is between 70 and 79, print \"Grade: C\".\n",
        "# Otherwise, print \"Grade: Fail\".\n",
        "\n",
        "# Take input for marks in three subjects\n",
        "subject1 = float(input(\"Enter marks for subject 1: \"))\n",
        "subject2 = float(input(\"Enter marks for subject 2: \"))\n",
        "subject3 = float(input(\"Enter marks for subject 3: \"))\n",
        "\n",
        "# Calculate the average marks\n",
        "average_marks = (subject1 + subject2 + subject3) / 3\n",
        "\n",
        "# Determine the grade based on the average marks\n",
        "if average_marks >= 90:\n",
        "    print(\"Grade: A\")\n",
        "elif average_marks >= 80:\n",
        "    print(\"Grade: B\")\n",
        "elif average_marks >= 70:\n",
        "    print(\"Grade: C\")\n",
        "else:\n",
        "    print(\"Grade: Fail\")"
      ],
      "metadata": {
        "colab": {
          "base_uri": "https://localhost:8080/"
        },
        "id": "TfOtENcSbZEX",
        "outputId": "264740bf-dc3a-49dc-fe82-21954bd06ef9"
      },
      "execution_count": 4,
      "outputs": [
        {
          "output_type": "stream",
          "name": "stdout",
          "text": [
            "Enter marks for subject 1: 10\n",
            "Enter marks for subject 2: 20\n",
            "Enter marks for subject 3: 40\n",
            "Grade: Fail\n"
          ]
        }
      ]
    },
    {
      "cell_type": "code",
      "source": [],
      "metadata": {
        "id": "ASm7XNCkbdqz"
      },
      "execution_count": null,
      "outputs": []
    }
  ]
}